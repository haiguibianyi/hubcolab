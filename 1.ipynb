%cd /content/
!rm -rf lc0
!git clone --depth 1 --recurse-submodules https://github.com/official-pikafish/lc0
!apt-get install ninja-build
!pip3 install meson==0.55.3
%cd lc0
!rm -rf build
!meson build --buildtype release -Db_lto=true -Dgtest=false -Dblas=false -Dopencl=false -Dcudnn=false -Dcuda=true -Donnx_libdir="" -Donnx_include="" -Dmalloc=""
%cd build
!ninja
!wget https://github.com/official-pikafish/pxzero-networks/releases/download/px0_client/px0_client.7z
!7z x px0_client.7z && rm px0_client.7z
!chmod 777 *
!./lc0_main --user=huorongrong --password=1111 --train-only=false
