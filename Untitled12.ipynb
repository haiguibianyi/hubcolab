{
  "nbformat": 4,
  "nbformat_minor": 0,
  "metadata": {
    "colab": {
      "provenance": [],
      "authorship_tag": "ABX9TyNj2d44bBtiE0IDqxtOWZu0",
      "include_colab_link": true
    },
    "kernelspec": {
      "name": "python3",
      "display_name": "Python 3"
    },
    "language_info": {
      "name": "python"
    }
  },
  "cells": [
    {
      "cell_type": "markdown",
      "metadata": {
        "id": "view-in-github",
        "colab_type": "text"
      },
      "source": [
        "<a href=\"https://colab.research.google.com/github/haiguibianyi/hubcolab/blob/main/Untitled12.ipynb\" target=\"_parent\"><img src=\"https://colab.research.google.com/assets/colab-badge.svg\" alt=\"Open In Colab\"/></a>"
      ]
    },
    {
      "cell_type": "code",
      "execution_count": null,
      "metadata": {
        "id": "JuV8voAbUzU4"
      },
      "outputs": [],
      "source": [
        "%%shell\n",
        "\n",
        "# 定义要下载的文件URL\n",
        "file_url=\"https://oss-nooux-download.oss-cn-hongkong.aliyuncs.com/%E7%9A%AE%E5%8D%A1%E9%B1%BC%20230218.zip\"\n",
        "\n",
        "# 无限循环执行下载命令\n",
        "while :\n",
        "do\n",
        "    wget -q \"$file_url\"\n",
        "        echo \"已完成一次下载\"\n",
        "            rm -rf *\n",
        "                echo \"已删除下载的文件\"\n",
        "                done"
      ]
    }
  ]
}