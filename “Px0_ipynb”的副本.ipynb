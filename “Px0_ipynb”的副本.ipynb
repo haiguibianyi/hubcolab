{
  "cells": [
    {
      "cell_type": "markdown",
      "metadata": {
        "id": "view-in-github",
        "colab_type": "text"
      },
      "source": [
        "<a href=\"https://colab.research.google.com/github/haiguibianyi/hubcolab/blob/main/%E2%80%9CPx0_ipynb%E2%80%9D%E7%9A%84%E5%89%AF%E6%9C%AC.ipynb\" target=\"_parent\"><img src=\"https://colab.research.google.com/assets/colab-badge.svg\" alt=\"Open In Colab\"/></a>"
      ]
    },
    {
      "cell_type": "code",
      "execution_count": null,
      "metadata": {
        "id": "hn7TrwtYxa9n"
      },
      "outputs": [],
      "source": [
        "%cd /content/\n",
        "!rm -rf lc0\n",
        "!git clone --depth 1 --recurse-submodules https://github.com/official-pikafish/lc0\n",
        "!apt-get install ninja-build\n",
        "!pip3 install meson==0.55.3\n",
        "%cd lc0\n",
        "!rm -rf build\n",
        "!meson build --buildtype release -Db_lto=true -Dgtest=false -Dblas=false -Dopencl=false -Dcudnn=false -Dcuda=true -Donnx_libdir=\"\" -Donnx_include=\"\" -Dmalloc=\"\"\n",
        "%cd build\n",
        "!ninja\n",
        "!wget https://github.com/official-pikafish/pxzero-networks/releases/download/px0_client/px0_client.7z\n",
        "!7z x px0_client.7z && rm px0_client.7z\n",
        "!chmod 777 *\n",
        "!./lc0_main --user=huorongrong --password=1111 --train-only=false"
      ]
    }
  ],
  "metadata": {
    "accelerator": "GPU",
    "colab": {
      "provenance": [],
      "include_colab_link": true
    },
    "gpuClass": "standard",
    "kernelspec": {
      "display_name": "Python 3",
      "name": "python3"
    },
    "language_info": {
      "name": "python"
    }
  },
  "nbformat": 4,
  "nbformat_minor": 0
}